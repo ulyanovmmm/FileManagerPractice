{
 "cells": [
  {
   "cell_type": "code",
   "execution_count": 83,
   "id": "82197814",
   "metadata": {},
   "outputs": [],
   "source": [
    "import os\n",
    "import shutil"
   ]
  },
  {
   "cell_type": "code",
   "execution_count": 84,
   "id": "151f748e",
   "metadata": {},
   "outputs": [],
   "source": [
    "#1\n",
    "def createfolder(name):\n",
    "    if not os.path.exists(source+name):\n",
    "        os.mkdir(source+name)\n",
    "    else:\n",
    "        return 'Файла нет'"
   ]
  },
  {
   "cell_type": "code",
   "execution_count": 85,
   "id": "a7294d48",
   "metadata": {},
   "outputs": [],
   "source": [
    "#2\n",
    "def delfolder(name):\n",
    "    if os.path.exists(source+name):\n",
    "        os.rmdir(source+name)\n",
    "    else:\n",
    "        return 'Файла нет'"
   ]
  },
  {
   "cell_type": "code",
   "execution_count": 86,
   "id": "d143e683",
   "metadata": {},
   "outputs": [],
   "source": [
    "#3\n",
    "def down(temp):\n",
    "    global source\n",
    "    l=[]\n",
    "    for i in range(len(temp)):\n",
    "        if temp[i]=='/':\n",
    "            l.append(i)\n",
    "            \n",
    "    ind=l[-2]\n",
    "    source = temp[:ind]+'/'\n",
    "\n",
    "def move():\n",
    "    global source\n",
    "    while True:\n",
    "        print('Зайти или подняться (STOP если уже всё)')\n",
    "        do=input()\n",
    "        if do=='зайти':\n",
    "            name=input('Введите имя папки ')\n",
    "            if os.path.exists(source+name+'/'):\n",
    "                source=source+name+'/'\n",
    "            else:\n",
    "                print('Папки нет')\n",
    "        elif do == 'подняться':\n",
    "            down(source)\n",
    "            print('Вы сейчас в ', source)\n",
    "        elif do=='STOP':\n",
    "            print('Вы сейчас в', source)\n",
    "            break"
   ]
  },
  {
   "cell_type": "code",
   "execution_count": 87,
   "id": "e799737f",
   "metadata": {},
   "outputs": [],
   "source": [
    "#4\n",
    "def createfile(name):\n",
    "    fullname=source+name+'.txt'\n",
    "    open(fullname, 'tw').close()"
   ]
  },
  {
   "cell_type": "code",
   "execution_count": 88,
   "id": "91951384",
   "metadata": {},
   "outputs": [],
   "source": [
    "#5\n",
    "def writetext(name):\n",
    "    text=input('Содержимое: ')\n",
    "    with open(source+name+'.txt', 'w') as f:\n",
    "        f.write(text)"
   ]
  },
  {
   "cell_type": "code",
   "execution_count": 89,
   "id": "97f5833f",
   "metadata": {},
   "outputs": [],
   "source": [
    "#6\n",
    "def check(name):\n",
    "    with open(source+name+'.txt', 'r') as f:\n",
    "        a=f.read()\n",
    "    print(a)"
   ]
  },
  {
   "cell_type": "code",
   "execution_count": 90,
   "id": "d79ca8aa",
   "metadata": {},
   "outputs": [],
   "source": [
    "#7\n",
    "def delfile(name):\n",
    "    if os.path.exists(source+name+'.txt'):\n",
    "        os.remove(source+name+'.txt')\n",
    "    else:\n",
    "        return 'Файла нет'"
   ]
  },
  {
   "cell_type": "code",
   "execution_count": 91,
   "id": "b6948355",
   "metadata": {},
   "outputs": [],
   "source": [
    "#8\n",
    "def copyfile(name):\n",
    "    if os.path.exists(source+name+'.txt'):\n",
    "        source2=input('Введите путь, куда копировать файл ')\n",
    "        shutil.copyfile(source+name+'.txt', source2+name+' - copy.txt')\n",
    "    else:\n",
    "        return 'Файла нет'"
   ]
  },
  {
   "cell_type": "code",
   "execution_count": 92,
   "id": "1be62723",
   "metadata": {},
   "outputs": [],
   "source": [
    "#9\n",
    "def movefile(name):\n",
    "    if os.path.exists(source+name+'.txt'):\n",
    "        source2=input('Введите путь, куда переместить файл файл ')\n",
    "        shutil.copyfile(source+name+'.txt', source2+name+'.txt')\n",
    "        os.remove(source+name+'.txt')\n",
    "    else:\n",
    "        return 'Файла нет'"
   ]
  },
  {
   "cell_type": "code",
   "execution_count": 93,
   "id": "415905d1",
   "metadata": {},
   "outputs": [],
   "source": [
    "#10\n",
    "def renamefile(name):\n",
    "    if os.path.exists(source+name+'.txt'):\n",
    "        namenew=input('Введите новое имя файла ')\n",
    "        os.rename(source+name+'.txt',source+namenew+'.txt')\n",
    "    else:\n",
    "        print('Файла нет')"
   ]
  },
  {
   "cell_type": "code",
   "execution_count": 82,
   "id": "dd69625a",
   "metadata": {},
   "outputs": [
    {
     "name": "stdout",
     "output_type": "stream",
     "text": [
      "1. Создать папку \n",
      " 2. Удалить папку \n",
      " 3. Переместить папку \n",
      " 4. Создать пустой файл \n",
      " 5. Запись текста в файл \n",
      " 6. Просмотреть содержимое текстового файла \n",
      " 7. Удалить файл \n",
      " 8. Копировать файл \n",
      " 9. Переместить файл\n",
      " 10. Переименовать файл. \n",
      " 11. Настройки. \n",
      "8\n",
      "Введите имя файла test\n",
      "Введите путь, куда копировать файл C:/python/manager/\n",
      "1. Создать папку \n",
      " 2. Удалить папку \n",
      " 3. Переместить папку \n",
      " 4. Создать пустой файл \n",
      " 5. Запись текста в файл \n",
      " 6. Просмотреть содержимое текстового файла \n",
      " 7. Удалить файл \n",
      " 8. Копировать файл \n",
      " 9. Переместить файл\n",
      " 10. Переименовать файл. \n",
      " 11. Настройки. \n",
      "9\n",
      "Введите имя файла testmanager\n",
      "1. Создать папку \n",
      " 2. Удалить папку \n",
      " 3. Переместить папку \n",
      " 4. Создать пустой файл \n",
      " 5. Запись текста в файл \n",
      " 6. Просмотреть содержимое текстового файла \n",
      " 7. Удалить файл \n",
      " 8. Копировать файл \n",
      " 9. Переместить файл\n",
      " 10. Переименовать файл. \n",
      " 11. Настройки. \n",
      "9\n",
      "Введите имя файла test\n",
      "Введите путь, куда переместить файл файл C:/python/\n",
      "1. Создать папку \n",
      " 2. Удалить папку \n",
      " 3. Переместить папку \n",
      " 4. Создать пустой файл \n",
      " 5. Запись текста в файл \n",
      " 6. Просмотреть содержимое текстового файла \n",
      " 7. Удалить файл \n",
      " 8. Копировать файл \n",
      " 9. Переместить файл\n",
      " 10. Переименовать файл. \n",
      " 11. Настройки. \n",
      "10\n",
      "Введите имя файла test - copy\n",
      "Введите новое имя файла test\n"
     ]
    },
    {
     "ename": "KeyboardInterrupt",
     "evalue": "Interrupted by user",
     "output_type": "error",
     "traceback": [
      "\u001b[1;31m---------------------------------------------------------------------------\u001b[0m",
      "\u001b[1;31mKeyboardInterrupt\u001b[0m                         Traceback (most recent call last)",
      "\u001b[1;32m<ipython-input-82-2875ab957e76>\u001b[0m in \u001b[0;36m<module>\u001b[1;34m\u001b[0m\n\u001b[0;32m      1\u001b[0m \u001b[0msource\u001b[0m\u001b[1;33m=\u001b[0m\u001b[1;34m'C:/python/manager/'\u001b[0m\u001b[1;33m\u001b[0m\u001b[1;33m\u001b[0m\u001b[0m\n\u001b[0;32m      2\u001b[0m \u001b[1;32mwhile\u001b[0m \u001b[1;32mTrue\u001b[0m\u001b[1;33m:\u001b[0m\u001b[1;33m\u001b[0m\u001b[1;33m\u001b[0m\u001b[0m\n\u001b[1;32m----> 3\u001b[1;33m     \u001b[0mn\u001b[0m \u001b[1;33m=\u001b[0m \u001b[0minput\u001b[0m\u001b[1;33m(\u001b[0m\u001b[1;33m(\u001b[0m\u001b[1;34m'1. Создать папку \\n 2. Удалить папку \\n 3. Переместить папку \\n 4. Создать пустой файл \\n 5. Запись текста в файл \\n 6. Просмотреть содержимое текстового файла \\n 7. Удалить файл \\n 8. Копировать файл \\n 9. Переместить файл\\n 10. Переименовать файл. \\n 11. Настройки. \\n'\u001b[0m\u001b[1;33m)\u001b[0m\u001b[1;33m)\u001b[0m\u001b[1;33m\u001b[0m\u001b[1;33m\u001b[0m\u001b[0m\n\u001b[0m\u001b[0;32m      4\u001b[0m     \u001b[0mn\u001b[0m\u001b[1;33m=\u001b[0m\u001b[0mint\u001b[0m\u001b[1;33m(\u001b[0m\u001b[0mn\u001b[0m\u001b[1;33m)\u001b[0m\u001b[1;33m\u001b[0m\u001b[1;33m\u001b[0m\u001b[0m\n\u001b[0;32m      5\u001b[0m     \u001b[1;32mif\u001b[0m \u001b[0mn\u001b[0m \u001b[1;33m==\u001b[0m \u001b[1;36m11\u001b[0m\u001b[1;33m:\u001b[0m\u001b[1;33m\u001b[0m\u001b[1;33m\u001b[0m\u001b[0m\n",
      "\u001b[1;32mC:\\anaconda3\\lib\\site-packages\\ipykernel\\kernelbase.py\u001b[0m in \u001b[0;36mraw_input\u001b[1;34m(self, prompt)\u001b[0m\n\u001b[0;32m    858\u001b[0m                 \u001b[1;34m\"raw_input was called, but this frontend does not support input requests.\"\u001b[0m\u001b[1;33m\u001b[0m\u001b[1;33m\u001b[0m\u001b[0m\n\u001b[0;32m    859\u001b[0m             )\n\u001b[1;32m--> 860\u001b[1;33m         return self._input_request(str(prompt),\n\u001b[0m\u001b[0;32m    861\u001b[0m             \u001b[0mself\u001b[0m\u001b[1;33m.\u001b[0m\u001b[0m_parent_ident\u001b[0m\u001b[1;33m,\u001b[0m\u001b[1;33m\u001b[0m\u001b[1;33m\u001b[0m\u001b[0m\n\u001b[0;32m    862\u001b[0m             \u001b[0mself\u001b[0m\u001b[1;33m.\u001b[0m\u001b[0m_parent_header\u001b[0m\u001b[1;33m,\u001b[0m\u001b[1;33m\u001b[0m\u001b[1;33m\u001b[0m\u001b[0m\n",
      "\u001b[1;32mC:\\anaconda3\\lib\\site-packages\\ipykernel\\kernelbase.py\u001b[0m in \u001b[0;36m_input_request\u001b[1;34m(self, prompt, ident, parent, password)\u001b[0m\n\u001b[0;32m    902\u001b[0m             \u001b[1;32mexcept\u001b[0m \u001b[0mKeyboardInterrupt\u001b[0m\u001b[1;33m:\u001b[0m\u001b[1;33m\u001b[0m\u001b[1;33m\u001b[0m\u001b[0m\n\u001b[0;32m    903\u001b[0m                 \u001b[1;31m# re-raise KeyboardInterrupt, to truncate traceback\u001b[0m\u001b[1;33m\u001b[0m\u001b[1;33m\u001b[0m\u001b[1;33m\u001b[0m\u001b[0m\n\u001b[1;32m--> 904\u001b[1;33m                 \u001b[1;32mraise\u001b[0m \u001b[0mKeyboardInterrupt\u001b[0m\u001b[1;33m(\u001b[0m\u001b[1;34m\"Interrupted by user\"\u001b[0m\u001b[1;33m)\u001b[0m \u001b[1;32mfrom\u001b[0m \u001b[1;32mNone\u001b[0m\u001b[1;33m\u001b[0m\u001b[1;33m\u001b[0m\u001b[0m\n\u001b[0m\u001b[0;32m    905\u001b[0m             \u001b[1;32mexcept\u001b[0m \u001b[0mException\u001b[0m \u001b[1;32mas\u001b[0m \u001b[0me\u001b[0m\u001b[1;33m:\u001b[0m\u001b[1;33m\u001b[0m\u001b[1;33m\u001b[0m\u001b[0m\n\u001b[0;32m    906\u001b[0m                 \u001b[0mself\u001b[0m\u001b[1;33m.\u001b[0m\u001b[0mlog\u001b[0m\u001b[1;33m.\u001b[0m\u001b[0mwarning\u001b[0m\u001b[1;33m(\u001b[0m\u001b[1;34m\"Invalid Message:\"\u001b[0m\u001b[1;33m,\u001b[0m \u001b[0mexc_info\u001b[0m\u001b[1;33m=\u001b[0m\u001b[1;32mTrue\u001b[0m\u001b[1;33m)\u001b[0m\u001b[1;33m\u001b[0m\u001b[1;33m\u001b[0m\u001b[0m\n",
      "\u001b[1;31mKeyboardInterrupt\u001b[0m: Interrupted by user"
     ]
    }
   ],
   "source": [
    "source='C:/python/manager/'\n",
    "while True:\n",
    "    n = input(('1. Создать папку \\n 2. Удалить папку \\n 3. Переместить папку \\n 4. Создать пустой файл \\n 5. Запись текста в файл \\n 6. Просмотреть содержимое текстового файла \\n 7. Удалить файл \\n 8. Копировать файл \\n 9. Переместить файл\\n 10. Переименовать файл. \\n 11. Настройки. \\n'))\n",
    "    n=int(n)\n",
    "    if n == 11:\n",
    "        print('Можете поменять корневую папку. Сейчас она - ', source)\n",
    "        k=input('Y / N ')\n",
    "        if k=='Y':\n",
    "            source=input('Введите корневую папку ')\n",
    "            source+='/'\n",
    "    \n",
    "    elif n == 1:\n",
    "        name=input('Введите имя папки ')\n",
    "        createfolder(name)\n",
    "        \n",
    "    elif n == 2:\n",
    "        name=input('Введите имя папки ')\n",
    "        delfolder(name)\n",
    "        \n",
    "    elif n == 3:\n",
    "        move()\n",
    "        \n",
    "    elif n == 4:\n",
    "        name=(input('Введите имя файла '))\n",
    "        createfile(name)\n",
    "        \n",
    "    elif n == 5:\n",
    "        name=input('Введите имя файла ')\n",
    "        writetext(name)\n",
    "        \n",
    "    elif n == 6:\n",
    "        name=input('Введите имя файла ')\n",
    "        check(name)\n",
    "        \n",
    "    elif n == 7:\n",
    "        name=input('Введите имя файла ')\n",
    "        delfile(name)\n",
    "        \n",
    "    elif n == 8:\n",
    "        name=input('Введите имя файла ')\n",
    "        copyfile(name)\n",
    "        \n",
    "    elif n == 9:\n",
    "        name=input('Введите имя файла ')\n",
    "        movefile(name)\n",
    "        \n",
    "    elif n == 10:\n",
    "        name=input('Введите имя файла ')\n",
    "        renamefile(name)"
   ]
  }
 ],
 "metadata": {
  "kernelspec": {
   "display_name": "Python 3",
   "language": "python",
   "name": "python3"
  },
  "language_info": {
   "codemirror_mode": {
    "name": "ipython",
    "version": 3
   },
   "file_extension": ".py",
   "mimetype": "text/x-python",
   "name": "python",
   "nbconvert_exporter": "python",
   "pygments_lexer": "ipython3",
   "version": "3.8.8"
  }
 },
 "nbformat": 4,
 "nbformat_minor": 5
}
